{
 "cells": [
  {
   "cell_type": "code",
   "execution_count": 9,
   "id": "9e588067",
   "metadata": {},
   "outputs": [
    {
     "name": "stderr",
     "output_type": "stream",
     "text": [
      "Downloading data: 100%|██████████| 3294/3294 [00:00<00:00, 512749.58it/s]"
     ]
    },
    {
     "name": "stdout",
     "output_type": "stream",
     "text": [
      "Download complete. Saved at ./data/vari_short_timescale_files\n",
      "File vari_short_timescale_files.parquet already exist\n"
     ]
    },
    {
     "name": "stderr",
     "output_type": "stream",
     "text": [
      "\n"
     ]
    }
   ],
   "source": [
    "from modules import download_gaia_vari_short_timescale, merge_gaia_vari_short_timescale\n",
    "download_gaia_vari_short_timescale()\n",
    "merged_data_path = merge_gaia_vari_short_timescale()"
   ]
  },
  {
   "cell_type": "code",
   "execution_count": 10,
   "id": "28216db6",
   "metadata": {},
   "outputs": [
    {
     "name": "stdout",
     "output_type": "stream",
     "text": [
      "<class 'pandas.core.frame.DataFrame'>\n",
      "RangeIndex: 471679 entries, 0 to 471678\n",
      "Data columns (total 9 columns):\n",
      " #   Column                     Non-Null Count   Dtype  \n",
      "---  ------                     --------------   -----  \n",
      " 0   solution_id                471679 non-null  int64  \n",
      " 1   source_id                  471679 non-null  int64  \n",
      " 2   amplitude_estimate         471679 non-null  float64\n",
      " 3   number_of_fov_transits     471679 non-null  int64  \n",
      " 4   mean_of_fov_abbe_values    471679 non-null  float64\n",
      " 5   variogram_num_points       471679 non-null  int64  \n",
      " 6   variogram_char_timescales  471679 non-null  object \n",
      " 7   variogram_values           471679 non-null  object \n",
      " 8   frequency                  471596 non-null  float64\n",
      "dtypes: float64(3), int64(4), object(2)\n",
      "memory usage: 32.4+ MB\n"
     ]
    }
   ],
   "source": [
    "import pandas as pd\n",
    "\n",
    "merged_data = pd.read_parquet(merged_data_path)\n",
    "merged_data.info()"
   ]
  },
  {
   "cell_type": "code",
   "execution_count": 11,
   "id": "7828a812",
   "metadata": {},
   "outputs": [
    {
     "name": "stdout",
     "output_type": "stream",
     "text": [
      "<class 'pandas.core.frame.DataFrame'>\n",
      "RangeIndex: 471679 entries, 0 to 471678\n",
      "Data columns (total 9 columns):\n",
      " #   Column                     Non-Null Count   Dtype  \n",
      "---  ------                     --------------   -----  \n",
      " 0   solution_id                471679 non-null  int64  \n",
      " 1   source_id                  471679 non-null  int64  \n",
      " 2   amplitude_estimate         471679 non-null  float64\n",
      " 3   number_of_fov_transits     471679 non-null  int64  \n",
      " 4   mean_of_fov_abbe_values    471679 non-null  float64\n",
      " 5   variogram_num_points       471679 non-null  int64  \n",
      " 6   variogram_char_timescales  471679 non-null  object \n",
      " 7   variogram_values           471679 non-null  object \n",
      " 8   frequency                  471596 non-null  float64\n",
      "dtypes: float64(3), int64(4), object(2)\n",
      "memory usage: 32.4+ MB\n"
     ]
    }
   ],
   "source": [
    "merged_data.dropna()\n",
    "merged_data.info()"
   ]
  },
  {
   "cell_type": "code",
   "execution_count": 13,
   "id": "aa505057",
   "metadata": {},
   "outputs": [
    {
     "name": "stdout",
     "output_type": "stream",
     "text": [
      "Epoch 1/10\n"
     ]
    },
    {
     "name": "stderr",
     "output_type": "stream",
     "text": [
      "/home/andredon/projects/University/Practice4/.venv/lib/python3.12/site-packages/keras/src/layers/core/dense.py:87: UserWarning: Do not pass an `input_shape`/`input_dim` argument to a layer. When using Sequential models, prefer using an `Input(shape)` object as the first layer in the model instead.\n",
      "  super().__init__(activity_regularizer=activity_regularizer, **kwargs)\n"
     ]
    },
    {
     "name": "stdout",
     "output_type": "stream",
     "text": [
      "\u001b[1m9432/9432\u001b[0m \u001b[32m━━━━━━━━━━━━━━━━━━━━\u001b[0m\u001b[37m\u001b[0m \u001b[1m4s\u001b[0m 372us/step - accuracy: 0.0339 - loss: 4.0447 - val_accuracy: 0.0342 - val_loss: 3.9681\n",
      "Epoch 2/10\n",
      "\u001b[1m9432/9432\u001b[0m \u001b[32m━━━━━━━━━━━━━━━━━━━━\u001b[0m\u001b[37m\u001b[0m \u001b[1m3s\u001b[0m 363us/step - accuracy: 0.0354 - loss: 3.9629 - val_accuracy: 0.0354 - val_loss: 3.9588\n",
      "Epoch 3/10\n",
      "\u001b[1m9432/9432\u001b[0m \u001b[32m━━━━━━━━━━━━━━━━━━━━\u001b[0m\u001b[37m\u001b[0m \u001b[1m3s\u001b[0m 365us/step - accuracy: 0.0355 - loss: 3.9620 - val_accuracy: 0.0350 - val_loss: 3.9545\n",
      "Epoch 4/10\n",
      "\u001b[1m9432/9432\u001b[0m \u001b[32m━━━━━━━━━━━━━━━━━━━━\u001b[0m\u001b[37m\u001b[0m \u001b[1m3s\u001b[0m 362us/step - accuracy: 0.0364 - loss: 3.9511 - val_accuracy: 0.0353 - val_loss: 3.9482\n",
      "Epoch 5/10\n",
      "\u001b[1m9432/9432\u001b[0m \u001b[32m━━━━━━━━━━━━━━━━━━━━\u001b[0m\u001b[37m\u001b[0m \u001b[1m3s\u001b[0m 369us/step - accuracy: 0.0363 - loss: 3.9512 - val_accuracy: 0.0361 - val_loss: 3.9473\n",
      "Epoch 6/10\n",
      "\u001b[1m9432/9432\u001b[0m \u001b[32m━━━━━━━━━━━━━━━━━━━━\u001b[0m\u001b[37m\u001b[0m \u001b[1m3s\u001b[0m 362us/step - accuracy: 0.0369 - loss: 3.9458 - val_accuracy: 0.0348 - val_loss: 3.9458\n",
      "Epoch 7/10\n",
      "\u001b[1m9432/9432\u001b[0m \u001b[32m━━━━━━━━━━━━━━━━━━━━\u001b[0m\u001b[37m\u001b[0m \u001b[1m3s\u001b[0m 368us/step - accuracy: 0.0363 - loss: 3.9436 - val_accuracy: 0.0370 - val_loss: 3.9397\n",
      "Epoch 8/10\n",
      "\u001b[1m9432/9432\u001b[0m \u001b[32m━━━━━━━━━━━━━━━━━━━━\u001b[0m\u001b[37m\u001b[0m \u001b[1m3s\u001b[0m 370us/step - accuracy: 0.0369 - loss: 3.9377 - val_accuracy: 0.0367 - val_loss: 3.9387\n",
      "Epoch 9/10\n",
      "\u001b[1m9432/9432\u001b[0m \u001b[32m━━━━━━━━━━━━━━━━━━━━\u001b[0m\u001b[37m\u001b[0m \u001b[1m3s\u001b[0m 366us/step - accuracy: 0.0374 - loss: 3.9375 - val_accuracy: 0.0375 - val_loss: 3.9404\n",
      "Epoch 10/10\n",
      "\u001b[1m9432/9432\u001b[0m \u001b[32m━━━━━━━━━━━━━━━━━━━━\u001b[0m\u001b[37m\u001b[0m \u001b[1m3s\u001b[0m 363us/step - accuracy: 0.0378 - loss: 3.9363 - val_accuracy: 0.0367 - val_loss: 3.9363\n",
      "\u001b[1m2948/2948\u001b[0m \u001b[32m━━━━━━━━━━━━━━━━━━━━\u001b[0m\u001b[37m\u001b[0m \u001b[1m1s\u001b[0m 262us/step - accuracy: 0.0370 - loss: 3.9383\n",
      "Test Accuracy: 0.0358\n"
     ]
    }
   ],
   "source": [
    "import pandas as pd\n",
    "import numpy as np\n",
    "from sklearn.preprocessing import LabelEncoder, StandardScaler\n",
    "from sklearn.model_selection import train_test_split\n",
    "from sklearn.metrics import classification_report\n",
    "import tensorflow as tf\n",
    "from tensorflow import keras\n",
    "from tensorflow.keras import layers\n",
    "\n",
    "\n",
    "# Handle empty variogram lists\n",
    "merged_data['variogram_char_timescales'] = merged_data['variogram_char_timescales'].apply(\n",
    "    lambda x: eval(x) if isinstance(x, str) and len(eval(x)) > 0 else [0]\n",
    ")\n",
    "merged_data['variogram_values'] = merged_data['variogram_values'].apply(\n",
    "    lambda x: eval(x) if isinstance(x, str) and len(eval(x)) > 0 else [0]\n",
    ")\n",
    "\n",
    "# Calculate features\n",
    "merged_data['variogram_char_timescales_mean'] = merged_data['variogram_char_timescales'].apply(np.mean)\n",
    "merged_data['variogram_values_mean'] = merged_data['variogram_values'].apply(lambda x: np.mean([float(i) for i in x]))\n",
    "\n",
    "# Drop rows only where critical columns are NaN\n",
    "final_data_cleaned = merged_data.dropna(subset=['frequency'])\n",
    "\n",
    "# Encode labels\n",
    "label_encoder = LabelEncoder()\n",
    "X = final_data_cleaned[['amplitude_estimate', 'frequency', 'variogram_char_timescales_mean', 'variogram_values_mean']]\n",
    "y = final_data_cleaned['number_of_fov_transits']\n",
    "y_encoded = label_encoder.fit_transform(y)\n",
    "\n",
    "# Split data\n",
    "X_train, X_test, y_train, y_test = train_test_split(X, y_encoded, test_size=0.2, random_state=42)\n",
    "\n",
    "# Normalize features\n",
    "scaler = StandardScaler()\n",
    "X_train_scaled = scaler.fit_transform(X_train)\n",
    "X_test_scaled = scaler.transform(X_test)\n",
    "\n",
    "# Build and train the model\n",
    "model = keras.Sequential([\n",
    "    layers.Dense(64, activation='relu', input_shape=(X_train_scaled.shape[1],)),\n",
    "    layers.Dense(32, activation='relu'),\n",
    "    layers.Dense(len(label_encoder.classes_), activation='softmax')\n",
    "])\n",
    "model.compile(optimizer='adam', loss='sparse_categorical_crossentropy', metrics=['accuracy'])\n",
    "model.fit(X_train_scaled, y_train, epochs=10, validation_split=0.2)\n",
    "\n",
    "# Evaluate\n",
    "test_acc = model.evaluate(X_test_scaled, y_test)[1]\n",
    "print(f\"Test Accuracy: {test_acc:.4f}\")"
   ]
  }
 ],
 "metadata": {
  "kernelspec": {
   "display_name": ".venv",
   "language": "python",
   "name": "python3"
  },
  "language_info": {
   "codemirror_mode": {
    "name": "ipython",
    "version": 3
   },
   "file_extension": ".py",
   "mimetype": "text/x-python",
   "name": "python",
   "nbconvert_exporter": "python",
   "pygments_lexer": "ipython3",
   "version": "3.12.3"
  }
 },
 "nbformat": 4,
 "nbformat_minor": 5
}
