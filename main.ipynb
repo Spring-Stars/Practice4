{
 "cells": [
  {
   "cell_type": "code",
   "execution_count": 5,
   "metadata": {},
   "outputs": [],
   "source": [
    "import pandas as pd"
   ]
  },
  {
   "cell_type": "code",
   "execution_count": 7,
   "metadata": {},
   "outputs": [
    {
     "name": "stdout",
     "output_type": "stream",
     "text": [
      "<class 'pandas.core.frame.DataFrame'>\n",
      "RangeIndex: 909965 entries, 0 to 909964\n",
      "Data columns (total 41 columns):\n",
      " #   Column        Non-Null Count   Dtype  \n",
      "---  ------        --------------   -----  \n",
      " 0   angDist       909965 non-null  float64\n",
      " 1   RAJ2000       909965 non-null  float64\n",
      " 2   DEJ2000       909965 non-null  float64\n",
      " 3   errHalfMaj    909965 non-null  float64\n",
      " 4   errHalfMin    909965 non-null  float64\n",
      " 5   errPosAng     909965 non-null  int64  \n",
      " 6   field         909965 non-null  int64  \n",
      " 7   nobs          909965 non-null  int64  \n",
      " 8   mobs          909965 non-null  int64  \n",
      " 9   B-V           784258 non-null  float64\n",
      " 10  e_B-V         784258 non-null  float64\n",
      " 11  Vmag          791592 non-null  float64\n",
      " 12  e_Vmag        791592 non-null  float64\n",
      " 13  u_e_Vmag      791592 non-null  float64\n",
      " 14  Bmag          790480 non-null  float64\n",
      " 15  e_Bmag        790480 non-null  float64\n",
      " 16  u_e_Bmag      790480 non-null  float64\n",
      " 17  gpmag         804351 non-null  float64\n",
      " 18  e_gpmag       804351 non-null  float64\n",
      " 19  u_e_gpmag     804351 non-null  float64\n",
      " 20  rpmag         801819 non-null  float64\n",
      " 21  e_rpmag       801819 non-null  float64\n",
      " 22  u_e_rpmag     801819 non-null  float64\n",
      " 23  ipmag         718890 non-null  float64\n",
      " 24  e_ipmag       718890 non-null  float64\n",
      " 25  u_e_ipmag     718890 non-null  float64\n",
      " 26  ra            909965 non-null  float64\n",
      " 27  dec           909965 non-null  float64\n",
      " 28  fuv_mag       88008 non-null   float64\n",
      " 29  nuv_mag       909965 non-null  float64\n",
      " 30  fuv_magerr    88008 non-null   float64\n",
      " 31  nuv_magerr    909965 non-null  float64\n",
      " 32  objid         909965 non-null  int64  \n",
      " 33  E_bv          909965 non-null  float64\n",
      " 34  objtype       0 non-null       float64\n",
      " 35  fuv_flux      88008 non-null   float64\n",
      " 36  fuv_fluxerr   88008 non-null   float64\n",
      " 37  nuv_flux      909964 non-null  float64\n",
      " 38  nuv_fluxerr   909965 non-null  float64\n",
      " 39  fuv_artifact  909965 non-null  int64  \n",
      " 40  nuv_artifact  909209 non-null  float64\n",
      "dtypes: float64(35), int64(6)\n",
      "memory usage: 284.6 MB\n"
     ]
    }
   ],
   "source": [
    "base_name = \"1603053657497A\" # Имя файла без разрешения\n",
    "df = pd.read_parquet(f\"data/{base_name}.parquet\")\n",
    "df.info()"
   ]
  }
 ],
 "metadata": {
  "kernelspec": {
   "display_name": ".venv",
   "language": "python",
   "name": "python3"
  },
  "language_info": {
   "codemirror_mode": {
    "name": "ipython",
    "version": 3
   },
   "file_extension": ".py",
   "mimetype": "text/x-python",
   "name": "python",
   "nbconvert_exporter": "python",
   "pygments_lexer": "ipython3",
   "version": "3.12.3"
  }
 },
 "nbformat": 4,
 "nbformat_minor": 2
}
